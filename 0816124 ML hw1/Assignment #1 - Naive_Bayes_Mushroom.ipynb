{
 "cells": [
  {
   "cell_type": "markdown",
   "id": "b03c8d7c",
   "metadata": {
    "id": "b03c8d7c"
   },
   "source": [
    "## Import modules"
   ]
  },
  {
   "cell_type": "code",
   "execution_count": 1,
   "id": "9252f211",
   "metadata": {
    "id": "9252f211"
   },
   "outputs": [],
   "source": [
    "import math\n",
    "import numpy as np\n",
    "import pandas as pd\n",
    "import matplotlib.pyplot as plt\n",
    "import requests"
   ]
  },
  {
   "cell_type": "markdown",
   "id": "9b6c9ed3",
   "metadata": {
    "id": "9b6c9ed3"
   },
   "source": [
    "## 1. Data Input"
   ]
  },
  {
   "cell_type": "code",
   "execution_count": 2,
   "id": "94c5a220",
   "metadata": {
    "colab": {
     "base_uri": "https://localhost:8080/"
    },
    "id": "94c5a220",
    "outputId": "e63716c3-a663-4409-c587-0b6f4d8fad8a"
   },
   "outputs": [
    {
     "data": {
      "text/html": [
       "<div>\n",
       "<style scoped>\n",
       "    .dataframe tbody tr th:only-of-type {\n",
       "        vertical-align: middle;\n",
       "    }\n",
       "\n",
       "    .dataframe tbody tr th {\n",
       "        vertical-align: top;\n",
       "    }\n",
       "\n",
       "    .dataframe thead th {\n",
       "        text-align: right;\n",
       "    }\n",
       "</style>\n",
       "<table border=\"1\" class=\"dataframe\">\n",
       "  <thead>\n",
       "    <tr style=\"text-align: right;\">\n",
       "      <th></th>\n",
       "      <th>0</th>\n",
       "      <th>1</th>\n",
       "      <th>2</th>\n",
       "      <th>3</th>\n",
       "      <th>4</th>\n",
       "      <th>5</th>\n",
       "      <th>6</th>\n",
       "      <th>7</th>\n",
       "      <th>8</th>\n",
       "      <th>9</th>\n",
       "      <th>...</th>\n",
       "      <th>13</th>\n",
       "      <th>14</th>\n",
       "      <th>15</th>\n",
       "      <th>16</th>\n",
       "      <th>17</th>\n",
       "      <th>18</th>\n",
       "      <th>19</th>\n",
       "      <th>20</th>\n",
       "      <th>21</th>\n",
       "      <th>22</th>\n",
       "    </tr>\n",
       "  </thead>\n",
       "  <tbody>\n",
       "    <tr>\n",
       "      <th>0</th>\n",
       "      <td>p</td>\n",
       "      <td>x</td>\n",
       "      <td>s</td>\n",
       "      <td>n</td>\n",
       "      <td>t</td>\n",
       "      <td>p</td>\n",
       "      <td>f</td>\n",
       "      <td>c</td>\n",
       "      <td>n</td>\n",
       "      <td>k</td>\n",
       "      <td>...</td>\n",
       "      <td>s</td>\n",
       "      <td>w</td>\n",
       "      <td>w</td>\n",
       "      <td>p</td>\n",
       "      <td>w</td>\n",
       "      <td>o</td>\n",
       "      <td>p</td>\n",
       "      <td>k</td>\n",
       "      <td>s</td>\n",
       "      <td>u</td>\n",
       "    </tr>\n",
       "    <tr>\n",
       "      <th>1</th>\n",
       "      <td>e</td>\n",
       "      <td>x</td>\n",
       "      <td>s</td>\n",
       "      <td>y</td>\n",
       "      <td>t</td>\n",
       "      <td>a</td>\n",
       "      <td>f</td>\n",
       "      <td>c</td>\n",
       "      <td>b</td>\n",
       "      <td>k</td>\n",
       "      <td>...</td>\n",
       "      <td>s</td>\n",
       "      <td>w</td>\n",
       "      <td>w</td>\n",
       "      <td>p</td>\n",
       "      <td>w</td>\n",
       "      <td>o</td>\n",
       "      <td>p</td>\n",
       "      <td>n</td>\n",
       "      <td>n</td>\n",
       "      <td>g</td>\n",
       "    </tr>\n",
       "    <tr>\n",
       "      <th>2</th>\n",
       "      <td>e</td>\n",
       "      <td>b</td>\n",
       "      <td>s</td>\n",
       "      <td>w</td>\n",
       "      <td>t</td>\n",
       "      <td>l</td>\n",
       "      <td>f</td>\n",
       "      <td>c</td>\n",
       "      <td>b</td>\n",
       "      <td>n</td>\n",
       "      <td>...</td>\n",
       "      <td>s</td>\n",
       "      <td>w</td>\n",
       "      <td>w</td>\n",
       "      <td>p</td>\n",
       "      <td>w</td>\n",
       "      <td>o</td>\n",
       "      <td>p</td>\n",
       "      <td>n</td>\n",
       "      <td>n</td>\n",
       "      <td>m</td>\n",
       "    </tr>\n",
       "    <tr>\n",
       "      <th>3</th>\n",
       "      <td>p</td>\n",
       "      <td>x</td>\n",
       "      <td>y</td>\n",
       "      <td>w</td>\n",
       "      <td>t</td>\n",
       "      <td>p</td>\n",
       "      <td>f</td>\n",
       "      <td>c</td>\n",
       "      <td>n</td>\n",
       "      <td>n</td>\n",
       "      <td>...</td>\n",
       "      <td>s</td>\n",
       "      <td>w</td>\n",
       "      <td>w</td>\n",
       "      <td>p</td>\n",
       "      <td>w</td>\n",
       "      <td>o</td>\n",
       "      <td>p</td>\n",
       "      <td>k</td>\n",
       "      <td>s</td>\n",
       "      <td>u</td>\n",
       "    </tr>\n",
       "    <tr>\n",
       "      <th>4</th>\n",
       "      <td>e</td>\n",
       "      <td>x</td>\n",
       "      <td>s</td>\n",
       "      <td>g</td>\n",
       "      <td>f</td>\n",
       "      <td>n</td>\n",
       "      <td>f</td>\n",
       "      <td>w</td>\n",
       "      <td>b</td>\n",
       "      <td>k</td>\n",
       "      <td>...</td>\n",
       "      <td>s</td>\n",
       "      <td>w</td>\n",
       "      <td>w</td>\n",
       "      <td>p</td>\n",
       "      <td>w</td>\n",
       "      <td>o</td>\n",
       "      <td>e</td>\n",
       "      <td>n</td>\n",
       "      <td>a</td>\n",
       "      <td>g</td>\n",
       "    </tr>\n",
       "    <tr>\n",
       "      <th>...</th>\n",
       "      <td>...</td>\n",
       "      <td>...</td>\n",
       "      <td>...</td>\n",
       "      <td>...</td>\n",
       "      <td>...</td>\n",
       "      <td>...</td>\n",
       "      <td>...</td>\n",
       "      <td>...</td>\n",
       "      <td>...</td>\n",
       "      <td>...</td>\n",
       "      <td>...</td>\n",
       "      <td>...</td>\n",
       "      <td>...</td>\n",
       "      <td>...</td>\n",
       "      <td>...</td>\n",
       "      <td>...</td>\n",
       "      <td>...</td>\n",
       "      <td>...</td>\n",
       "      <td>...</td>\n",
       "      <td>...</td>\n",
       "      <td>...</td>\n",
       "    </tr>\n",
       "    <tr>\n",
       "      <th>8119</th>\n",
       "      <td>e</td>\n",
       "      <td>k</td>\n",
       "      <td>s</td>\n",
       "      <td>n</td>\n",
       "      <td>f</td>\n",
       "      <td>n</td>\n",
       "      <td>a</td>\n",
       "      <td>c</td>\n",
       "      <td>b</td>\n",
       "      <td>y</td>\n",
       "      <td>...</td>\n",
       "      <td>s</td>\n",
       "      <td>o</td>\n",
       "      <td>o</td>\n",
       "      <td>p</td>\n",
       "      <td>o</td>\n",
       "      <td>o</td>\n",
       "      <td>p</td>\n",
       "      <td>b</td>\n",
       "      <td>c</td>\n",
       "      <td>l</td>\n",
       "    </tr>\n",
       "    <tr>\n",
       "      <th>8120</th>\n",
       "      <td>e</td>\n",
       "      <td>x</td>\n",
       "      <td>s</td>\n",
       "      <td>n</td>\n",
       "      <td>f</td>\n",
       "      <td>n</td>\n",
       "      <td>a</td>\n",
       "      <td>c</td>\n",
       "      <td>b</td>\n",
       "      <td>y</td>\n",
       "      <td>...</td>\n",
       "      <td>s</td>\n",
       "      <td>o</td>\n",
       "      <td>o</td>\n",
       "      <td>p</td>\n",
       "      <td>n</td>\n",
       "      <td>o</td>\n",
       "      <td>p</td>\n",
       "      <td>b</td>\n",
       "      <td>v</td>\n",
       "      <td>l</td>\n",
       "    </tr>\n",
       "    <tr>\n",
       "      <th>8121</th>\n",
       "      <td>e</td>\n",
       "      <td>f</td>\n",
       "      <td>s</td>\n",
       "      <td>n</td>\n",
       "      <td>f</td>\n",
       "      <td>n</td>\n",
       "      <td>a</td>\n",
       "      <td>c</td>\n",
       "      <td>b</td>\n",
       "      <td>n</td>\n",
       "      <td>...</td>\n",
       "      <td>s</td>\n",
       "      <td>o</td>\n",
       "      <td>o</td>\n",
       "      <td>p</td>\n",
       "      <td>o</td>\n",
       "      <td>o</td>\n",
       "      <td>p</td>\n",
       "      <td>b</td>\n",
       "      <td>c</td>\n",
       "      <td>l</td>\n",
       "    </tr>\n",
       "    <tr>\n",
       "      <th>8122</th>\n",
       "      <td>p</td>\n",
       "      <td>k</td>\n",
       "      <td>y</td>\n",
       "      <td>n</td>\n",
       "      <td>f</td>\n",
       "      <td>y</td>\n",
       "      <td>f</td>\n",
       "      <td>c</td>\n",
       "      <td>n</td>\n",
       "      <td>b</td>\n",
       "      <td>...</td>\n",
       "      <td>k</td>\n",
       "      <td>w</td>\n",
       "      <td>w</td>\n",
       "      <td>p</td>\n",
       "      <td>w</td>\n",
       "      <td>o</td>\n",
       "      <td>e</td>\n",
       "      <td>w</td>\n",
       "      <td>v</td>\n",
       "      <td>l</td>\n",
       "    </tr>\n",
       "    <tr>\n",
       "      <th>8123</th>\n",
       "      <td>e</td>\n",
       "      <td>x</td>\n",
       "      <td>s</td>\n",
       "      <td>n</td>\n",
       "      <td>f</td>\n",
       "      <td>n</td>\n",
       "      <td>a</td>\n",
       "      <td>c</td>\n",
       "      <td>b</td>\n",
       "      <td>y</td>\n",
       "      <td>...</td>\n",
       "      <td>s</td>\n",
       "      <td>o</td>\n",
       "      <td>o</td>\n",
       "      <td>p</td>\n",
       "      <td>o</td>\n",
       "      <td>o</td>\n",
       "      <td>p</td>\n",
       "      <td>o</td>\n",
       "      <td>c</td>\n",
       "      <td>l</td>\n",
       "    </tr>\n",
       "  </tbody>\n",
       "</table>\n",
       "<p>8124 rows × 23 columns</p>\n",
       "</div>"
      ],
      "text/plain": [
       "     0  1  2  3  4  5  6  7  8  9   ... 13 14 15 16 17 18 19 20 21 22\n",
       "0     p  x  s  n  t  p  f  c  n  k  ...  s  w  w  p  w  o  p  k  s  u\n",
       "1     e  x  s  y  t  a  f  c  b  k  ...  s  w  w  p  w  o  p  n  n  g\n",
       "2     e  b  s  w  t  l  f  c  b  n  ...  s  w  w  p  w  o  p  n  n  m\n",
       "3     p  x  y  w  t  p  f  c  n  n  ...  s  w  w  p  w  o  p  k  s  u\n",
       "4     e  x  s  g  f  n  f  w  b  k  ...  s  w  w  p  w  o  e  n  a  g\n",
       "...  .. .. .. .. .. .. .. .. .. ..  ... .. .. .. .. .. .. .. .. .. ..\n",
       "8119  e  k  s  n  f  n  a  c  b  y  ...  s  o  o  p  o  o  p  b  c  l\n",
       "8120  e  x  s  n  f  n  a  c  b  y  ...  s  o  o  p  n  o  p  b  v  l\n",
       "8121  e  f  s  n  f  n  a  c  b  n  ...  s  o  o  p  o  o  p  b  c  l\n",
       "8122  p  k  y  n  f  y  f  c  n  b  ...  k  w  w  p  w  o  e  w  v  l\n",
       "8123  e  x  s  n  f  n  a  c  b  y  ...  s  o  o  p  o  o  p  o  c  l\n",
       "\n",
       "[8124 rows x 23 columns]"
      ]
     },
     "metadata": {},
     "output_type": "display_data"
    }
   ],
   "source": [
    "url = 'https://archive.ics.uci.edu/ml/machine-learning-databases/mushroom/agaricus-lepiota.data'\n",
    "req = requests.get(url)\n",
    "\n",
    "pure_string = str(req.content).replace(\"b'\",\"\").split(\"\\\\n\")\n",
    "pure_string.pop()\n",
    "\n",
    "dataset = []\n",
    "for line in pure_string:\n",
    "    tmp = []\n",
    "    for ch in line:\n",
    "        if not ch == \",\":\n",
    "            tmp.append(ch)\n",
    "    dataset.append(tmp)\n",
    "\n",
    "dataset = pd.DataFrame(dataset)\n",
    "display(dataset)"
   ]
  },
  {
   "cell_type": "markdown",
   "id": "1b6fcc3f",
   "metadata": {
    "id": "1b6fcc3f"
   },
   "source": [
    "## 2. Data Visulization"
   ]
  },
  {
   "cell_type": "code",
   "execution_count": 3,
   "id": "552994c2",
   "metadata": {
    "colab": {
     "base_uri": "https://localhost:8080/",
     "height": 1000
    },
    "id": "552994c2",
    "outputId": "c32337f2-6e65-4765-835b-4d331dffe76b"
   },
   "outputs": [
    {
     "name": "stderr",
     "output_type": "stream",
     "text": [
      "<ipython-input-3-fea107b8cd9a>:20: RuntimeWarning: More than 20 figures have been opened. Figures created through the pyplot interface (`matplotlib.pyplot.figure`) are retained until explicitly closed and may consume too much memory. (To control this warning, see the rcParam `figure.max_open_warning`).\n",
      "  fig, axs = plt.subplots(1,3)\n"
     ]
    },
    {
     "data": {
      "image/png": "[encoded data removed]",
      "text/plain": [
       "<Figure size 576x288 with 3 Axes>"
      ]
     },
     "metadata": {
      "needs_background": "light"
     },
     "output_type": "display_data"
    },
    {
     "data": {
      "image/png": "[encoded data removed]",
      "text/plain": [
       "<Figure size 576x288 with 3 Axes>"
      ]
     },
     "metadata": {
      "needs_background": "light"
     },
     "output_type": "display_data"
    },
    {
     "data": {
      "image/png": "[encoded data removed]",
      "text/plain": [
       "<Figure size 576x288 with 3 Axes>"
      ]
     },
     "metadata": {
      "needs_background": "light"
     },
     "output_type": "display_data"
    },
    {
     "data": {
      "image/png": "[encoded data removed]",
      "text/plain": [
       "<Figure size 576x288 with 3 Axes>"
      ]
     },
     "metadata": {
      "needs_background": "light"
     },
     "output_type": "display_data"
    },
    {
     "data": {
      "image/png": "[encoded data removed]",
      "text/plain": [
       "<Figure size 576x288 with 3 Axes>"
      ]
     },
     "metadata": {
      "needs_background": "light"
     },
     "output_type": "display_data"
    },
    {
     "data": {
      "image/png": "[encoded data removed]",
      "text/plain": [
       "<Figure size 576x288 with 3 Axes>"
      ]
     },
     "metadata": {
      "needs_background": "light"
     },
     "output_type": "display_data"
    },
    {
     "data": {
      "image/png": "[encoded data removed]",
      "text/plain": [
       "<Figure size 576x288 with 3 Axes>"
      ]
     },
     "metadata": {
      "needs_background": "light"
     },
     "output_type": "display_data"
    },
    {
     "data": {
      "image/png": "[encoded data removed]",
      "text/plain": [
       "<Figure size 576x288 with 3 Axes>"
      ]
     },
     "metadata": {
      "needs_background": "light"
     },
     "output_type": "display_data"
    },
    {
     "data": {
      "image/png": "[encoded data removed]",
      "text/plain": [
       "<Figure size 576x288 with 3 Axes>"
      ]
     },
     "metadata": {
      "needs_background": "light"
     },
     "output_type": "display_data"
    },
    {
     "data": {
      "image/png": "[encoded data removed]",
      "text/plain": [
       "<Figure size 576x288 with 3 Axes>"
      ]
     },
     "metadata": {
      "needs_background": "light"
     },
     "output_type": "display_data"
    },
    {
     "data": {
      "image/png": "[encoded data removed]",
      "text/plain": [
       "<Figure size 576x288 with 3 Axes>"
      ]
     },
     "metadata": {
      "needs_background": "light"
     },
     "output_type": "display_data"
    },
    {
     "data": {
      "image/png": "[encoded data removed]",
      "text/plain": [
       "<Figure size 576x288 with 3 Axes>"
      ]
     },
     "metadata": {
      "needs_background": "light"
     },
     "output_type": "display_data"
    },
    {
     "data": {
      "image/png": "[encoded data removed]",
      "text/plain": [
       "<Figure size 576x288 with 3 Axes>"
      ]
     },
     "metadata": {
      "needs_background": "light"
     },
     "output_type": "display_data"
    },
    {
     "data": {
      "image/png": "[encoded data removed]",
      "text/plain": [
       "<Figure size 576x288 with 3 Axes>"
      ]
     },
     "metadata": {
      "needs_background": "light"
     },
     "output_type": "display_data"
    },
    {
     "data": {
      "image/png": "[encoded data removed]",
      "text/plain": [
       "<Figure size 576x288 with 3 Axes>"
      ]
     },
     "metadata": {
      "needs_background": "light"
     },
     "output_type": "display_data"
    },
    {
     "data": {
      "image/png": "[encoded data removed]",
      "text/plain": [
       "<Figure size 576x288 with 3 Axes>"
      ]
     },
     "metadata": {
      "needs_background": "light"
     },
     "output_type": "display_data"
    },
    {
     "data": {
      "image/png": "[encoded data removed]",
      "text/plain": [
       "<Figure size 576x288 with 3 Axes>"
      ]
     },
     "metadata": {
      "needs_background": "light"
     },
     "output_type": "display_data"
    },
    {
     "data": {
      "image/png": "[encoded data removed]",
      "text/plain": [
       "<Figure size 576x288 with 3 Axes>"
      ]
     },
     "metadata": {
      "needs_background": "light"
     },
     "output_type": "display_data"
    },
    {
     "data": {
      "image/png": "[encoded data removed]",
      "text/plain": [
       "<Figure size 576x288 with 3 Axes>"
      ]
     },
     "metadata": {
      "needs_background": "light"
     },
     "output_type": "display_data"
    },
    {
     "data": {
      "image/png": "[encoded data removed]",
      "text/plain": [
       "<Figure size 576x288 with 3 Axes>"
      ]
     },
     "metadata": {
      "needs_background": "light"
     },
     "output_type": "display_data"
    },
    {
     "data": {
      "image/png": "[encoded data removed]",
      "text/plain": [
       "<Figure size 576x288 with 3 Axes>"
      ]
     },
     "metadata": {
      "needs_background": "light"
     },
     "output_type": "display_data"
    },
    {
     "data": {
      "image/png": "[encoded data removed]",
      "text/plain": [
       "<Figure size 576x288 with 3 Axes>"
      ]
     },
     "metadata": {
      "needs_background": "light"
     },
     "output_type": "display_data"
    }
   ],
   "source": [
    "feature_symbols = []\n",
    "for i in range(23):\n",
    "    feature_symbols.append(list(set(dataset[i])))\n",
    "\n",
    "p_dataset = dataset[dataset[0] == \"p\"]\n",
    "e_dataset = dataset[dataset[0] == \"e\"]\n",
    "\n",
    "p_feature_count = []\n",
    "e_feature_count = []\n",
    "for i in range(23):\n",
    "    p_tmp = []\n",
    "    e_tmp = []\n",
    "    for symbol in feature_symbols[i]:\n",
    "        p_tmp.append(len(p_dataset[p_dataset[i] == symbol]))\n",
    "        e_tmp.append(len(e_dataset[e_dataset[i] == symbol]))\n",
    "    p_feature_count.append(p_tmp)\n",
    "    e_feature_count.append(e_tmp)\n",
    "    \n",
    "for i in range(1,23):\n",
    "    fig, axs = plt.subplots(1,3)\n",
    "    fig.suptitle('Feature '+str(i))\n",
    "    \n",
    "    axs[0].bar(feature_symbols[i], p_feature_count[i], color=\"blue\")\n",
    "    axs[0].set_title('p')\n",
    "    \n",
    "    axs[1].bar(feature_symbols[i], e_feature_count[i], color=\"orange\")\n",
    "    axs[1].set_title('e')\n",
    "\n",
    "    l1 = axs[2].bar(feature_symbols[i], np.array(p_feature_count[i]) + np.array(e_feature_count[i]), color=\"blue\")\n",
    "    l2 = axs[2].bar(feature_symbols[i], e_feature_count[i], color=\"orange\")\n",
    "    axs[2].legend(handles=[l1, l2], labels=[\"p\", \"e\"], loc=\"best\")\n",
    "    axs[2].set_title('total')\n",
    "    \n",
    "    fig.set_figwidth(8)\n",
    "    fig.tight_layout(pad=1.0)\n",
    "    \n",
    "plt.show()\n"
   ]
  },
  {
   "cell_type": "markdown",
   "id": "dc211804",
   "metadata": {
    "id": "dc211804"
   },
   "source": [
    "## 3. Data Preprocessing"
   ]
  },
  {
   "cell_type": "code",
   "execution_count": 4,
   "id": "be2e9292",
   "metadata": {
    "colab": {
     "base_uri": "https://localhost:8080/"
    },
    "id": "be2e9292",
    "outputId": "9c6ba05a-891f-4a8f-b310-e6d17a924b2e"
   },
   "outputs": [
    {
     "data": {
      "text/html": [
       "<div>\n",
       "<style scoped>\n",
       "    .dataframe tbody tr th:only-of-type {\n",
       "        vertical-align: middle;\n",
       "    }\n",
       "\n",
       "    .dataframe tbody tr th {\n",
       "        vertical-align: top;\n",
       "    }\n",
       "\n",
       "    .dataframe thead th {\n",
       "        text-align: right;\n",
       "    }\n",
       "</style>\n",
       "<table border=\"1\" class=\"dataframe\">\n",
       "  <thead>\n",
       "    <tr style=\"text-align: right;\">\n",
       "      <th></th>\n",
       "      <th>0</th>\n",
       "      <th>1</th>\n",
       "      <th>2</th>\n",
       "      <th>3</th>\n",
       "      <th>4</th>\n",
       "      <th>5</th>\n",
       "      <th>6</th>\n",
       "      <th>7</th>\n",
       "      <th>8</th>\n",
       "      <th>9</th>\n",
       "      <th>...</th>\n",
       "      <th>13</th>\n",
       "      <th>14</th>\n",
       "      <th>15</th>\n",
       "      <th>16</th>\n",
       "      <th>17</th>\n",
       "      <th>18</th>\n",
       "      <th>19</th>\n",
       "      <th>20</th>\n",
       "      <th>21</th>\n",
       "      <th>22</th>\n",
       "    </tr>\n",
       "  </thead>\n",
       "  <tbody>\n",
       "    <tr>\n",
       "      <th>3509</th>\n",
       "      <td>e</td>\n",
       "      <td>f</td>\n",
       "      <td>y</td>\n",
       "      <td>g</td>\n",
       "      <td>t</td>\n",
       "      <td>n</td>\n",
       "      <td>f</td>\n",
       "      <td>c</td>\n",
       "      <td>b</td>\n",
       "      <td>n</td>\n",
       "      <td>...</td>\n",
       "      <td>s</td>\n",
       "      <td>g</td>\n",
       "      <td>w</td>\n",
       "      <td>p</td>\n",
       "      <td>w</td>\n",
       "      <td>o</td>\n",
       "      <td>p</td>\n",
       "      <td>k</td>\n",
       "      <td>v</td>\n",
       "      <td>d</td>\n",
       "    </tr>\n",
       "    <tr>\n",
       "      <th>2079</th>\n",
       "      <td>e</td>\n",
       "      <td>x</td>\n",
       "      <td>y</td>\n",
       "      <td>e</td>\n",
       "      <td>t</td>\n",
       "      <td>n</td>\n",
       "      <td>f</td>\n",
       "      <td>c</td>\n",
       "      <td>b</td>\n",
       "      <td>u</td>\n",
       "      <td>...</td>\n",
       "      <td>s</td>\n",
       "      <td>w</td>\n",
       "      <td>p</td>\n",
       "      <td>p</td>\n",
       "      <td>w</td>\n",
       "      <td>o</td>\n",
       "      <td>p</td>\n",
       "      <td>n</td>\n",
       "      <td>y</td>\n",
       "      <td>d</td>\n",
       "    </tr>\n",
       "    <tr>\n",
       "      <th>982</th>\n",
       "      <td>e</td>\n",
       "      <td>f</td>\n",
       "      <td>f</td>\n",
       "      <td>g</td>\n",
       "      <td>f</td>\n",
       "      <td>n</td>\n",
       "      <td>f</td>\n",
       "      <td>w</td>\n",
       "      <td>b</td>\n",
       "      <td>h</td>\n",
       "      <td>...</td>\n",
       "      <td>s</td>\n",
       "      <td>w</td>\n",
       "      <td>w</td>\n",
       "      <td>p</td>\n",
       "      <td>w</td>\n",
       "      <td>o</td>\n",
       "      <td>e</td>\n",
       "      <td>k</td>\n",
       "      <td>s</td>\n",
       "      <td>g</td>\n",
       "    </tr>\n",
       "    <tr>\n",
       "      <th>2667</th>\n",
       "      <td>e</td>\n",
       "      <td>x</td>\n",
       "      <td>f</td>\n",
       "      <td>e</td>\n",
       "      <td>t</td>\n",
       "      <td>n</td>\n",
       "      <td>f</td>\n",
       "      <td>c</td>\n",
       "      <td>b</td>\n",
       "      <td>n</td>\n",
       "      <td>...</td>\n",
       "      <td>s</td>\n",
       "      <td>g</td>\n",
       "      <td>g</td>\n",
       "      <td>p</td>\n",
       "      <td>w</td>\n",
       "      <td>o</td>\n",
       "      <td>p</td>\n",
       "      <td>k</td>\n",
       "      <td>y</td>\n",
       "      <td>d</td>\n",
       "    </tr>\n",
       "    <tr>\n",
       "      <th>1855</th>\n",
       "      <td>e</td>\n",
       "      <td>x</td>\n",
       "      <td>f</td>\n",
       "      <td>n</td>\n",
       "      <td>t</td>\n",
       "      <td>n</td>\n",
       "      <td>f</td>\n",
       "      <td>c</td>\n",
       "      <td>b</td>\n",
       "      <td>n</td>\n",
       "      <td>...</td>\n",
       "      <td>s</td>\n",
       "      <td>p</td>\n",
       "      <td>w</td>\n",
       "      <td>p</td>\n",
       "      <td>w</td>\n",
       "      <td>o</td>\n",
       "      <td>p</td>\n",
       "      <td>n</td>\n",
       "      <td>y</td>\n",
       "      <td>d</td>\n",
       "    </tr>\n",
       "    <tr>\n",
       "      <th>...</th>\n",
       "      <td>...</td>\n",
       "      <td>...</td>\n",
       "      <td>...</td>\n",
       "      <td>...</td>\n",
       "      <td>...</td>\n",
       "      <td>...</td>\n",
       "      <td>...</td>\n",
       "      <td>...</td>\n",
       "      <td>...</td>\n",
       "      <td>...</td>\n",
       "      <td>...</td>\n",
       "      <td>...</td>\n",
       "      <td>...</td>\n",
       "      <td>...</td>\n",
       "      <td>...</td>\n",
       "      <td>...</td>\n",
       "      <td>...</td>\n",
       "      <td>...</td>\n",
       "      <td>...</td>\n",
       "      <td>...</td>\n",
       "      <td>...</td>\n",
       "    </tr>\n",
       "    <tr>\n",
       "      <th>3841</th>\n",
       "      <td>e</td>\n",
       "      <td>f</td>\n",
       "      <td>f</td>\n",
       "      <td>e</td>\n",
       "      <td>t</td>\n",
       "      <td>n</td>\n",
       "      <td>f</td>\n",
       "      <td>c</td>\n",
       "      <td>b</td>\n",
       "      <td>u</td>\n",
       "      <td>...</td>\n",
       "      <td>s</td>\n",
       "      <td>p</td>\n",
       "      <td>w</td>\n",
       "      <td>p</td>\n",
       "      <td>w</td>\n",
       "      <td>o</td>\n",
       "      <td>p</td>\n",
       "      <td>n</td>\n",
       "      <td>y</td>\n",
       "      <td>d</td>\n",
       "    </tr>\n",
       "    <tr>\n",
       "      <th>1214</th>\n",
       "      <td>e</td>\n",
       "      <td>x</td>\n",
       "      <td>f</td>\n",
       "      <td>n</td>\n",
       "      <td>f</td>\n",
       "      <td>n</td>\n",
       "      <td>f</td>\n",
       "      <td>w</td>\n",
       "      <td>b</td>\n",
       "      <td>n</td>\n",
       "      <td>...</td>\n",
       "      <td>s</td>\n",
       "      <td>w</td>\n",
       "      <td>w</td>\n",
       "      <td>p</td>\n",
       "      <td>w</td>\n",
       "      <td>o</td>\n",
       "      <td>e</td>\n",
       "      <td>k</td>\n",
       "      <td>a</td>\n",
       "      <td>g</td>\n",
       "    </tr>\n",
       "    <tr>\n",
       "      <th>64</th>\n",
       "      <td>e</td>\n",
       "      <td>b</td>\n",
       "      <td>y</td>\n",
       "      <td>w</td>\n",
       "      <td>t</td>\n",
       "      <td>l</td>\n",
       "      <td>f</td>\n",
       "      <td>c</td>\n",
       "      <td>b</td>\n",
       "      <td>n</td>\n",
       "      <td>...</td>\n",
       "      <td>s</td>\n",
       "      <td>w</td>\n",
       "      <td>w</td>\n",
       "      <td>p</td>\n",
       "      <td>w</td>\n",
       "      <td>o</td>\n",
       "      <td>p</td>\n",
       "      <td>n</td>\n",
       "      <td>s</td>\n",
       "      <td>g</td>\n",
       "    </tr>\n",
       "    <tr>\n",
       "      <th>4314</th>\n",
       "      <td>p</td>\n",
       "      <td>x</td>\n",
       "      <td>y</td>\n",
       "      <td>y</td>\n",
       "      <td>f</td>\n",
       "      <td>f</td>\n",
       "      <td>f</td>\n",
       "      <td>c</td>\n",
       "      <td>b</td>\n",
       "      <td>p</td>\n",
       "      <td>...</td>\n",
       "      <td>k</td>\n",
       "      <td>n</td>\n",
       "      <td>b</td>\n",
       "      <td>p</td>\n",
       "      <td>w</td>\n",
       "      <td>o</td>\n",
       "      <td>l</td>\n",
       "      <td>h</td>\n",
       "      <td>y</td>\n",
       "      <td>p</td>\n",
       "    </tr>\n",
       "    <tr>\n",
       "      <th>5505</th>\n",
       "      <td>p</td>\n",
       "      <td>x</td>\n",
       "      <td>s</td>\n",
       "      <td>g</td>\n",
       "      <td>t</td>\n",
       "      <td>f</td>\n",
       "      <td>f</td>\n",
       "      <td>c</td>\n",
       "      <td>b</td>\n",
       "      <td>h</td>\n",
       "      <td>...</td>\n",
       "      <td>s</td>\n",
       "      <td>w</td>\n",
       "      <td>w</td>\n",
       "      <td>p</td>\n",
       "      <td>w</td>\n",
       "      <td>o</td>\n",
       "      <td>p</td>\n",
       "      <td>h</td>\n",
       "      <td>v</td>\n",
       "      <td>g</td>\n",
       "    </tr>\n",
       "  </tbody>\n",
       "</table>\n",
       "<p>5644 rows × 23 columns</p>\n",
       "</div>"
      ],
      "text/plain": [
       "     0  1  2  3  4  5  6  7  8  9   ... 13 14 15 16 17 18 19 20 21 22\n",
       "3509  e  f  y  g  t  n  f  c  b  n  ...  s  g  w  p  w  o  p  k  v  d\n",
       "2079  e  x  y  e  t  n  f  c  b  u  ...  s  w  p  p  w  o  p  n  y  d\n",
       "982   e  f  f  g  f  n  f  w  b  h  ...  s  w  w  p  w  o  e  k  s  g\n",
       "2667  e  x  f  e  t  n  f  c  b  n  ...  s  g  g  p  w  o  p  k  y  d\n",
       "1855  e  x  f  n  t  n  f  c  b  n  ...  s  p  w  p  w  o  p  n  y  d\n",
       "...  .. .. .. .. .. .. .. .. .. ..  ... .. .. .. .. .. .. .. .. .. ..\n",
       "3841  e  f  f  e  t  n  f  c  b  u  ...  s  p  w  p  w  o  p  n  y  d\n",
       "1214  e  x  f  n  f  n  f  w  b  n  ...  s  w  w  p  w  o  e  k  a  g\n",
       "64    e  b  y  w  t  l  f  c  b  n  ...  s  w  w  p  w  o  p  n  s  g\n",
       "4314  p  x  y  y  f  f  f  c  b  p  ...  k  n  b  p  w  o  l  h  y  p\n",
       "5505  p  x  s  g  t  f  f  c  b  h  ...  s  w  w  p  w  o  p  h  v  g\n",
       "\n",
       "[5644 rows x 23 columns]"
      ]
     },
     "metadata": {},
     "output_type": "display_data"
    }
   ],
   "source": [
    "for i in range(23):\n",
    "    dataset = dataset[dataset[i] != \"?\"]\n",
    "\n",
    "from sklearn.utils import shuffle\n",
    "dataset = shuffle(dataset)\n",
    "\n",
    "display(dataset)"
   ]
  },
  {
   "cell_type": "markdown",
   "id": "r3AajYLXMIA_",
   "metadata": {
    "id": "r3AajYLXMIA_"
   },
   "source": [
    "## 4. Model Construction"
   ]
  },
  {
   "cell_type": "code",
   "execution_count": 5,
   "id": "b65503c3",
   "metadata": {
    "id": "b65503c3"
   },
   "outputs": [],
   "source": [
    "class Naive_Bayes_Classifier:\n",
    "    \n",
    "    def __init__(self, x, y):\n",
    "        self.x = x\n",
    "        self.y = y\n",
    "        self.k = 1\n",
    "    \n",
    "    def wo_laplace(self, data, label):\n",
    "        ans = math.log(len(self.x[self.y == label])/len(self.x))\n",
    "        for i in range(22):\n",
    "            tmp = len(self.x[self.y == label][self.x[i+1] == data[i+1]])\n",
    "            if tmp == 0:\n",
    "                tmp = 1\n",
    "            ans = ans + math.log(tmp/len(self.x[self.y == label]))\n",
    "        return ans\n",
    "\n",
    "    def with_laplace(self, data, label):\n",
    "        ans = math.log(len(self.x[self.y == label])/len(self.x))\n",
    "        for i in range(22):\n",
    "            tmp = len(self.x[self.y == label][self.x[i+1] == data[i+1]]) + self.k\n",
    "            ans = ans + math.log(tmp/(len(self.x[self.y == label]) + self.k * len(set(self.x[i+1]))))\n",
    "        return ans\n",
    "    \n",
    "    def predict(self, x):\n",
    "        result = []\n",
    "        print(len(x))\n",
    "        for i in range(len(x)):\n",
    "            if(self.wo_laplace(x.iloc[i], 'p') > self.wo_laplace(x.iloc[i], 'e')):\n",
    "                result.append('p')\n",
    "            else:\n",
    "                result.append('e')\n",
    "            if i%100 == 0:\n",
    "                print(i,\"/\",len(x),\"done\")\n",
    "        return result\n",
    "\n",
    "    def predict_with_laplace(self, x):\n",
    "        result = []\n",
    "        print(len(x))\n",
    "        for i in range(len(x)):\n",
    "            if(self.with_laplace(x.iloc[i], 'p') > self.with_laplace(x.iloc[i], 'e')):\n",
    "                result.append('p')\n",
    "            else:\n",
    "                result.append('e')\n",
    "            if i%100 == 0:\n",
    "                print(i,\"/\",len(x),\"done\")\n",
    "        return result\n",
    "    \n",
    "    def cal_confusion_matrix(self, x, y):\n",
    "        result = self.predict(x)\n",
    "        TP = FP = FN = TN = 0\n",
    "        for i in range(len(result)):\n",
    "            if result[i] == y.iloc[i] and result[i] == 'p':\n",
    "              TP = TP + 1\n",
    "            elif result[i] != y.iloc[i] and result[i] == 'p':\n",
    "              FP = FP + 1\n",
    "            elif result[i] != y.iloc[i] and result[i] == 'e':\n",
    "              FN = FN + 1\n",
    "            elif result[i] == y.iloc[i] and result[i] == 'e':\n",
    "              TN = TN + 1\n",
    "        confusion_matrix = pd.DataFrame([[TP,FP],[FN,TN]])\n",
    "        confusion_matrix.columns = ['poisonous', 'edible']\n",
    "        confusion_matrix.index = ['poisonous', 'edible']\n",
    "        print(\"\")\n",
    "        return confusion_matrix\n",
    "\n",
    "    def cal_confusion_matrix_with_laplace(self, x, y):\n",
    "        result = self.predict_with_laplace(x)\n",
    "        TP = FP = FN = TN = 0\n",
    "        for i in range(len(result)):\n",
    "            if result[i] == y.iloc[i] and result[i] == 'p':\n",
    "              TP = TP + 1\n",
    "            elif result[i] != y.iloc[i] and result[i] == 'p':\n",
    "              FP = FP + 1\n",
    "            elif result[i] != y.iloc[i] and result[i] == 'e':\n",
    "              FN = FN + 1\n",
    "            elif result[i] == y.iloc[i] and result[i] == 'e':\n",
    "              TN = TN + 1\n",
    "        confusion_matrix = pd.DataFrame([[TP,FP],[FN,TN]])\n",
    "        confusion_matrix.columns = ['poisonous', 'edible']\n",
    "        confusion_matrix.index = ['poisonous', 'edible']\n",
    "        print(\"\")\n",
    "        return confusion_matrix\n",
    "            "
   ]
  },
  {
   "cell_type": "markdown",
   "id": "Vd0Fsg5tMN2O",
   "metadata": {
    "id": "Vd0Fsg5tMN2O"
   },
   "source": [
    "## 5. Train-Test-Split"
   ]
  },
  {
   "cell_type": "code",
   "execution_count": 6,
   "id": "0dac2569",
   "metadata": {
    "colab": {
     "base_uri": "https://localhost:8080/"
    },
    "id": "0dac2569",
    "outputId": "2e74a53a-122d-4dcb-db5b-f203e8730ad3"
   },
   "outputs": [
    {
     "name": "stdout",
     "output_type": "stream",
     "text": [
      "Training data size:  3950\n",
      "Validation data size:  1694\n",
      "K_fold_cross_validation size 1 :  1881\n",
      "K_fold_cross_validation size 2 :  1881\n",
      "K_fold_cross_validation size 3 :  1882\n"
     ]
    }
   ],
   "source": [
    "x = dataset.iloc[:, 1:]\n",
    "y = dataset[0]\n",
    "\n",
    "x_training_set = x[: math.floor(len(x) * 0.7)]\n",
    "y_training_set = y[: math.floor(len(y) * 0.7)]\n",
    "x_validation_set = x[math.floor(len(x) * 0.7) :]\n",
    "y_validation_set = y[math.floor(len(y) * 0.7) :]\n",
    "\n",
    "print(\"Training data size: \", len(x_training_set))\n",
    "print(\"Validation data size: \", len(x_validation_set))\n",
    "\n",
    "x_K_fold_cross_validation = []\n",
    "y_K_fold_cross_validation = []\n",
    "for i in range(3):\n",
    "    x_K_fold_cross_validation.append(x[math.floor(len(x) * 1/3 * i) : math.floor(len(x) * 1/3 * (i+1))])\n",
    "    y_K_fold_cross_validation.append(y[math.floor(len(y) * 1/3 * i) : math.floor(len(y) * 1/3 * (i+1))])\n",
    "    print(\"K_fold_cross_validation size \"+str(i+1)+\" : \", len(x_K_fold_cross_validation[i]))"
   ]
  },
  {
   "cell_type": "markdown",
   "id": "PqcGXPk9YLJx",
   "metadata": {
    "id": "PqcGXPk9YLJx"
   },
   "source": [
    "## Holdout Training"
   ]
  },
  {
   "cell_type": "code",
   "execution_count": 7,
   "id": "66d21f3e",
   "metadata": {
    "colab": {
     "base_uri": "https://localhost:8080/"
    },
    "id": "66d21f3e",
    "outputId": "9614fec5-3cc0-4e95-d869-a3ea9a06bd80"
   },
   "outputs": [
    {
     "name": "stdout",
     "output_type": "stream",
     "text": [
      "holdout predict\n",
      "1694\n",
      "0 / 1694 done\n"
     ]
    },
    {
     "name": "stderr",
     "output_type": "stream",
     "text": [
      "<ipython-input-5-7e0f52c61af4>:11: UserWarning: Boolean Series key will be reindexed to match DataFrame index.\n",
      "  tmp = len(self.x[self.y == label][self.x[i+1] == data[i+1]])\n"
     ]
    },
    {
     "name": "stdout",
     "output_type": "stream",
     "text": [
      "100 / 1694 done\n",
      "200 / 1694 done\n",
      "300 / 1694 done\n",
      "400 / 1694 done\n",
      "500 / 1694 done\n",
      "600 / 1694 done\n",
      "700 / 1694 done\n",
      "800 / 1694 done\n",
      "900 / 1694 done\n",
      "1000 / 1694 done\n",
      "1100 / 1694 done\n",
      "1200 / 1694 done\n",
      "1300 / 1694 done\n",
      "1400 / 1694 done\n",
      "1500 / 1694 done\n",
      "1600 / 1694 done\n",
      "\n",
      "holdout with laplace predict\n",
      "1694\n",
      "0 / 1694 done\n"
     ]
    },
    {
     "name": "stderr",
     "output_type": "stream",
     "text": [
      "<ipython-input-5-7e0f52c61af4>:20: UserWarning: Boolean Series key will be reindexed to match DataFrame index.\n",
      "  tmp = len(self.x[self.y == label][self.x[i+1] == data[i+1]]) + self.k\n"
     ]
    },
    {
     "name": "stdout",
     "output_type": "stream",
     "text": [
      "100 / 1694 done\n",
      "200 / 1694 done\n",
      "300 / 1694 done\n",
      "400 / 1694 done\n",
      "500 / 1694 done\n",
      "600 / 1694 done\n",
      "700 / 1694 done\n",
      "800 / 1694 done\n",
      "900 / 1694 done\n",
      "1000 / 1694 done\n",
      "1100 / 1694 done\n",
      "1200 / 1694 done\n",
      "1300 / 1694 done\n",
      "1400 / 1694 done\n",
      "1500 / 1694 done\n",
      "1600 / 1694 done\n",
      "\n"
     ]
    }
   ],
   "source": [
    "model = Naive_Bayes_Classifier(x_training_set, y_training_set)\n",
    "\n",
    "print(\"holdout predict\")\n",
    "holdout_confusion_matrix = model.cal_confusion_matrix(x_validation_set, y_validation_set)\n",
    "\n",
    "print(\"holdout with laplace predict\")\n",
    "holdout_confusion_matrix_with_laplace = model.cal_confusion_matrix_with_laplace(x_validation_set, y_validation_set)"
   ]
  },
  {
   "cell_type": "markdown",
   "id": "yIHf4ZmRYfep",
   "metadata": {
    "id": "yIHf4ZmRYfep"
   },
   "source": [
    "## K-fold Training"
   ]
  },
  {
   "cell_type": "code",
   "execution_count": 8,
   "id": "1bb9a9ff",
   "metadata": {
    "id": "1bb9a9ff"
   },
   "outputs": [
    {
     "name": "stdout",
     "output_type": "stream",
     "text": [
      "k fold pridict round  0\n",
      "1882\n",
      "0 / 1882 done\n"
     ]
    },
    {
     "name": "stderr",
     "output_type": "stream",
     "text": [
      "<ipython-input-5-7e0f52c61af4>:11: UserWarning: Boolean Series key will be reindexed to match DataFrame index.\n",
      "  tmp = len(self.x[self.y == label][self.x[i+1] == data[i+1]])\n"
     ]
    },
    {
     "name": "stdout",
     "output_type": "stream",
     "text": [
      "100 / 1882 done\n",
      "200 / 1882 done\n",
      "300 / 1882 done\n",
      "400 / 1882 done\n",
      "500 / 1882 done\n",
      "600 / 1882 done\n",
      "700 / 1882 done\n",
      "800 / 1882 done\n",
      "900 / 1882 done\n",
      "1000 / 1882 done\n",
      "1100 / 1882 done\n",
      "1200 / 1882 done\n",
      "1300 / 1882 done\n",
      "1400 / 1882 done\n",
      "1500 / 1882 done\n",
      "1600 / 1882 done\n",
      "1700 / 1882 done\n",
      "1800 / 1882 done\n",
      "\n",
      "k fold pridict round  1\n",
      "1881\n",
      "0 / 1881 done\n",
      "100 / 1881 done\n",
      "200 / 1881 done\n",
      "300 / 1881 done\n",
      "400 / 1881 done\n",
      "500 / 1881 done\n",
      "600 / 1881 done\n",
      "700 / 1881 done\n",
      "800 / 1881 done\n",
      "900 / 1881 done\n",
      "1000 / 1881 done\n",
      "1100 / 1881 done\n",
      "1200 / 1881 done\n",
      "1300 / 1881 done\n",
      "1400 / 1881 done\n",
      "1500 / 1881 done\n",
      "1600 / 1881 done\n",
      "1700 / 1881 done\n",
      "1800 / 1881 done\n",
      "\n",
      "k fold pridict round  2\n",
      "1881\n",
      "0 / 1881 done\n",
      "100 / 1881 done\n",
      "200 / 1881 done\n",
      "300 / 1881 done\n",
      "400 / 1881 done\n",
      "500 / 1881 done\n",
      "600 / 1881 done\n",
      "700 / 1881 done\n",
      "800 / 1881 done\n",
      "900 / 1881 done\n",
      "1000 / 1881 done\n",
      "1100 / 1881 done\n",
      "1200 / 1881 done\n",
      "1300 / 1881 done\n",
      "1400 / 1881 done\n",
      "1500 / 1881 done\n",
      "1600 / 1881 done\n",
      "1700 / 1881 done\n",
      "1800 / 1881 done\n",
      "\n",
      "k fold with laplace pridict round  0\n",
      "1882\n",
      "0 / 1882 done\n"
     ]
    },
    {
     "name": "stderr",
     "output_type": "stream",
     "text": [
      "<ipython-input-5-7e0f52c61af4>:20: UserWarning: Boolean Series key will be reindexed to match DataFrame index.\n",
      "  tmp = len(self.x[self.y == label][self.x[i+1] == data[i+1]]) + self.k\n"
     ]
    },
    {
     "name": "stdout",
     "output_type": "stream",
     "text": [
      "100 / 1882 done\n",
      "200 / 1882 done\n",
      "300 / 1882 done\n",
      "400 / 1882 done\n",
      "500 / 1882 done\n",
      "600 / 1882 done\n",
      "700 / 1882 done\n",
      "800 / 1882 done\n",
      "900 / 1882 done\n",
      "1000 / 1882 done\n",
      "1100 / 1882 done\n",
      "1200 / 1882 done\n",
      "1300 / 1882 done\n",
      "1400 / 1882 done\n",
      "1500 / 1882 done\n",
      "1600 / 1882 done\n",
      "1700 / 1882 done\n",
      "1800 / 1882 done\n",
      "\n",
      "k fold with laplace pridict round  1\n",
      "1881\n",
      "0 / 1881 done\n",
      "100 / 1881 done\n",
      "200 / 1881 done\n",
      "300 / 1881 done\n",
      "400 / 1881 done\n",
      "500 / 1881 done\n",
      "600 / 1881 done\n",
      "700 / 1881 done\n",
      "800 / 1881 done\n",
      "900 / 1881 done\n",
      "1000 / 1881 done\n",
      "1100 / 1881 done\n",
      "1200 / 1881 done\n",
      "1300 / 1881 done\n",
      "1400 / 1881 done\n",
      "1500 / 1881 done\n",
      "1600 / 1881 done\n",
      "1700 / 1881 done\n",
      "1800 / 1881 done\n",
      "\n",
      "k fold with laplace pridict round  2\n",
      "1881\n",
      "0 / 1881 done\n",
      "100 / 1881 done\n",
      "200 / 1881 done\n",
      "300 / 1881 done\n",
      "400 / 1881 done\n",
      "500 / 1881 done\n",
      "600 / 1881 done\n",
      "700 / 1881 done\n",
      "800 / 1881 done\n",
      "900 / 1881 done\n",
      "1000 / 1881 done\n",
      "1100 / 1881 done\n",
      "1200 / 1881 done\n",
      "1300 / 1881 done\n",
      "1400 / 1881 done\n",
      "1500 / 1881 done\n",
      "1600 / 1881 done\n",
      "1700 / 1881 done\n",
      "1800 / 1881 done\n",
      "\n"
     ]
    }
   ],
   "source": [
    "order = [[0, 1, 2], [2, 0, 1], [1, 2, 0]]\n",
    "\n",
    "k_fold_confusion_matrix = pd.DataFrame([[0,0],[0,0]])\n",
    "k_fold_confusion_matrix.columns = ['poisonous', 'edible']\n",
    "k_fold_confusion_matrix.index = ['poisonous', 'edible']\n",
    "\n",
    "for i in range(3):\n",
    "  print(\"k fold pridict round \", i)\n",
    "  x_K_fold_cross_training_set = pd.concat([x_K_fold_cross_validation[order[i][0]],x_K_fold_cross_validation[order[i][1]]], axis=0)\n",
    "  y_K_fold_cross_training_set = pd.concat([y_K_fold_cross_validation[order[i][0]],y_K_fold_cross_validation[order[i][1]]], axis=0)\n",
    "  x_K_fold_cross_validation_set = x_K_fold_cross_validation[order[i][2]]\n",
    "  y_K_fold_cross_validation_set = y_K_fold_cross_validation[order[i][2]]\n",
    "\n",
    "  model = Naive_Bayes_Classifier(x_K_fold_cross_training_set, y_K_fold_cross_training_set)\n",
    "  \n",
    "  k_fold_confusion_matrix = k_fold_confusion_matrix + model.cal_confusion_matrix(x_K_fold_cross_validation_set, y_K_fold_cross_validation_set)\n",
    "\n",
    "k_fold_confusion_matrix_with_laplace = pd.DataFrame([[0,0],[0,0]])\n",
    "k_fold_confusion_matrix_with_laplace.columns = ['poisonous', 'edible']\n",
    "k_fold_confusion_matrix_with_laplace.index = ['poisonous', 'edible']\n",
    "\n",
    "for i in range(3):\n",
    "  print(\"k fold with laplace pridict round \", i)\n",
    "  x_K_fold_cross_training_set = pd.concat([x_K_fold_cross_validation[order[i][0]],x_K_fold_cross_validation[order[i][1]]], axis=0)\n",
    "  y_K_fold_cross_training_set = pd.concat([y_K_fold_cross_validation[order[i][0]],y_K_fold_cross_validation[order[i][1]]], axis=0)\n",
    "  x_K_fold_cross_validation_set = x_K_fold_cross_validation[order[i][2]]\n",
    "  y_K_fold_cross_validation_set = y_K_fold_cross_validation[order[i][2]]\n",
    "\n",
    "  model = Naive_Bayes_Classifier(x_K_fold_cross_training_set, y_K_fold_cross_training_set)\n",
    "  \n",
    "  k_fold_confusion_matrix_with_laplace = k_fold_confusion_matrix_with_laplace + model.cal_confusion_matrix_with_laplace(x_K_fold_cross_validation_set, y_K_fold_cross_validation_set)\n"
   ]
  },
  {
   "cell_type": "markdown",
   "id": "c4bacc32",
   "metadata": {},
   "source": [
    "## 6. Results"
   ]
  },
  {
   "cell_type": "code",
   "execution_count": 9,
   "id": "37e3945f",
   "metadata": {
    "id": "37e3945f"
   },
   "outputs": [
    {
     "name": "stdout",
     "output_type": "stream",
     "text": [
      "Holdout: \n"
     ]
    },
    {
     "data": {
      "text/html": [
       "<div>\n",
       "<style scoped>\n",
       "    .dataframe tbody tr th:only-of-type {\n",
       "        vertical-align: middle;\n",
       "    }\n",
       "\n",
       "    .dataframe tbody tr th {\n",
       "        vertical-align: top;\n",
       "    }\n",
       "\n",
       "    .dataframe thead th {\n",
       "        text-align: right;\n",
       "    }\n",
       "</style>\n",
       "<table border=\"1\" class=\"dataframe\">\n",
       "  <thead>\n",
       "    <tr style=\"text-align: right;\">\n",
       "      <th></th>\n",
       "      <th>poisonous</th>\n",
       "      <th>edible</th>\n",
       "    </tr>\n",
       "  </thead>\n",
       "  <tbody>\n",
       "    <tr>\n",
       "      <th>poisonous</th>\n",
       "      <td>574</td>\n",
       "      <td>4</td>\n",
       "    </tr>\n",
       "    <tr>\n",
       "      <th>edible</th>\n",
       "      <td>52</td>\n",
       "      <td>1064</td>\n",
       "    </tr>\n",
       "  </tbody>\n",
       "</table>\n",
       "</div>"
      ],
      "text/plain": [
       "           poisonous  edible\n",
       "poisonous        574       4\n",
       "edible            52    1064"
      ]
     },
     "metadata": {},
     "output_type": "display_data"
    },
    {
     "name": "stdout",
     "output_type": "stream",
     "text": [
      "\n",
      "Holdout laplace: \n"
     ]
    },
    {
     "data": {
      "text/html": [
       "<div>\n",
       "<style scoped>\n",
       "    .dataframe tbody tr th:only-of-type {\n",
       "        vertical-align: middle;\n",
       "    }\n",
       "\n",
       "    .dataframe tbody tr th {\n",
       "        vertical-align: top;\n",
       "    }\n",
       "\n",
       "    .dataframe thead th {\n",
       "        text-align: right;\n",
       "    }\n",
       "</style>\n",
       "<table border=\"1\" class=\"dataframe\">\n",
       "  <thead>\n",
       "    <tr style=\"text-align: right;\">\n",
       "      <th></th>\n",
       "      <th>poisonous</th>\n",
       "      <th>edible</th>\n",
       "    </tr>\n",
       "  </thead>\n",
       "  <tbody>\n",
       "    <tr>\n",
       "      <th>poisonous</th>\n",
       "      <td>574</td>\n",
       "      <td>4</td>\n",
       "    </tr>\n",
       "    <tr>\n",
       "      <th>edible</th>\n",
       "      <td>52</td>\n",
       "      <td>1064</td>\n",
       "    </tr>\n",
       "  </tbody>\n",
       "</table>\n",
       "</div>"
      ],
      "text/plain": [
       "           poisonous  edible\n",
       "poisonous        574       4\n",
       "edible            52    1064"
      ]
     },
     "metadata": {},
     "output_type": "display_data"
    },
    {
     "name": "stdout",
     "output_type": "stream",
     "text": [
      "\n",
      "K-fold: \n"
     ]
    },
    {
     "data": {
      "text/html": [
       "<div>\n",
       "<style scoped>\n",
       "    .dataframe tbody tr th:only-of-type {\n",
       "        vertical-align: middle;\n",
       "    }\n",
       "\n",
       "    .dataframe tbody tr th {\n",
       "        vertical-align: top;\n",
       "    }\n",
       "\n",
       "    .dataframe thead th {\n",
       "        text-align: right;\n",
       "    }\n",
       "</style>\n",
       "<table border=\"1\" class=\"dataframe\">\n",
       "  <thead>\n",
       "    <tr style=\"text-align: right;\">\n",
       "      <th></th>\n",
       "      <th>poisonous</th>\n",
       "      <th>edible</th>\n",
       "    </tr>\n",
       "  </thead>\n",
       "  <tbody>\n",
       "    <tr>\n",
       "      <th>poisonous</th>\n",
       "      <td>1990</td>\n",
       "      <td>15</td>\n",
       "    </tr>\n",
       "    <tr>\n",
       "      <th>edible</th>\n",
       "      <td>166</td>\n",
       "      <td>3473</td>\n",
       "    </tr>\n",
       "  </tbody>\n",
       "</table>\n",
       "</div>"
      ],
      "text/plain": [
       "           poisonous  edible\n",
       "poisonous       1990      15\n",
       "edible           166    3473"
      ]
     },
     "metadata": {},
     "output_type": "display_data"
    },
    {
     "name": "stdout",
     "output_type": "stream",
     "text": [
      "\n",
      "K-fold Laplace: \n"
     ]
    },
    {
     "data": {
      "text/html": [
       "<div>\n",
       "<style scoped>\n",
       "    .dataframe tbody tr th:only-of-type {\n",
       "        vertical-align: middle;\n",
       "    }\n",
       "\n",
       "    .dataframe tbody tr th {\n",
       "        vertical-align: top;\n",
       "    }\n",
       "\n",
       "    .dataframe thead th {\n",
       "        text-align: right;\n",
       "    }\n",
       "</style>\n",
       "<table border=\"1\" class=\"dataframe\">\n",
       "  <thead>\n",
       "    <tr style=\"text-align: right;\">\n",
       "      <th></th>\n",
       "      <th>poisonous</th>\n",
       "      <th>edible</th>\n",
       "    </tr>\n",
       "  </thead>\n",
       "  <tbody>\n",
       "    <tr>\n",
       "      <th>poisonous</th>\n",
       "      <td>1993</td>\n",
       "      <td>15</td>\n",
       "    </tr>\n",
       "    <tr>\n",
       "      <th>edible</th>\n",
       "      <td>163</td>\n",
       "      <td>3473</td>\n",
       "    </tr>\n",
       "  </tbody>\n",
       "</table>\n",
       "</div>"
      ],
      "text/plain": [
       "           poisonous  edible\n",
       "poisonous       1993      15\n",
       "edible           163    3473"
      ]
     },
     "metadata": {},
     "output_type": "display_data"
    },
    {
     "name": "stdout",
     "output_type": "stream",
     "text": [
      "\n",
      "Summary: \n"
     ]
    },
    {
     "data": {
      "text/html": [
       "<div>\n",
       "<style scoped>\n",
       "    .dataframe tbody tr th:only-of-type {\n",
       "        vertical-align: middle;\n",
       "    }\n",
       "\n",
       "    .dataframe tbody tr th {\n",
       "        vertical-align: top;\n",
       "    }\n",
       "\n",
       "    .dataframe thead th {\n",
       "        text-align: right;\n",
       "    }\n",
       "</style>\n",
       "<table border=\"1\" class=\"dataframe\">\n",
       "  <thead>\n",
       "    <tr style=\"text-align: right;\">\n",
       "      <th></th>\n",
       "      <th>Accuracy</th>\n",
       "      <th>Precision</th>\n",
       "      <th>Sensitivity</th>\n",
       "    </tr>\n",
       "  </thead>\n",
       "  <tbody>\n",
       "    <tr>\n",
       "      <th>Holdout</th>\n",
       "      <td>0.966942</td>\n",
       "      <td>0.916933</td>\n",
       "      <td>0.993080</td>\n",
       "    </tr>\n",
       "    <tr>\n",
       "      <th>Holdout Laplace</th>\n",
       "      <td>0.966942</td>\n",
       "      <td>0.916933</td>\n",
       "      <td>0.993080</td>\n",
       "    </tr>\n",
       "    <tr>\n",
       "      <th>K-fold</th>\n",
       "      <td>0.967931</td>\n",
       "      <td>0.923006</td>\n",
       "      <td>0.992519</td>\n",
       "    </tr>\n",
       "    <tr>\n",
       "      <th>K-fold Laplace</th>\n",
       "      <td>0.968462</td>\n",
       "      <td>0.924397</td>\n",
       "      <td>0.992530</td>\n",
       "    </tr>\n",
       "  </tbody>\n",
       "</table>\n",
       "</div>"
      ],
      "text/plain": [
       "                 Accuracy  Precision  Sensitivity\n",
       "Holdout          0.966942   0.916933     0.993080\n",
       "Holdout Laplace  0.966942   0.916933     0.993080\n",
       "K-fold           0.967931   0.923006     0.992519\n",
       "K-fold Laplace   0.968462   0.924397     0.992530"
      ]
     },
     "metadata": {},
     "output_type": "display_data"
    }
   ],
   "source": [
    "print(\"Holdout: \")\n",
    "display(holdout_confusion_matrix)\n",
    "\n",
    "print(\"\")\n",
    "\n",
    "print(\"Holdout laplace: \")\n",
    "display(holdout_confusion_matrix_with_laplace)\n",
    "\n",
    "print(\"\") \n",
    "\n",
    "print(\"K-fold: \")\n",
    "display(k_fold_confusion_matrix)\n",
    "\n",
    "print(\"\")\n",
    "\n",
    "print(\"K-fold Laplace: \")\n",
    "display(k_fold_confusion_matrix_with_laplace)\n",
    "\n",
    "def matrix_transform(matrix):\n",
    "  TP = matrix[\"poisonous\"][\"poisonous\"]\n",
    "  FP = matrix[\"poisonous\"][\"edible\"]\n",
    "  FN = matrix[\"edible\"][\"poisonous\"]\n",
    "  TN = matrix[\"edible\"][\"edible\"]\n",
    "  \n",
    "  accuracy = (TP+TN)/(TP+FP+FN+TN)\n",
    "  precision = TP/(TP+FP)\n",
    "  Recall = TP/(TP+FN)\n",
    "  return accuracy, precision, Recall\n",
    "\n",
    "summary = []\n",
    "summary.append(matrix_transform(holdout_confusion_matrix))\n",
    "summary.append(matrix_transform(holdout_confusion_matrix_with_laplace))\n",
    "summary.append(matrix_transform(k_fold_confusion_matrix))\n",
    "summary.append(matrix_transform(k_fold_confusion_matrix_with_laplace))\n",
    "\n",
    "summary = pd.DataFrame(summary)\n",
    "summary.columns = [\"Accuracy\", \"Precision\", \"Sensitivity\"]\n",
    "summary.index = [\"Holdout\", \"Holdout Laplace\", \"K-fold\", \"K-fold Laplace\"]\n",
    "\n",
    "print(\"\\nSummary: \")\n",
    "display(summary)"
   ]
  },
  {
   "cell_type": "markdown",
   "id": "22c9c51d",
   "metadata": {},
   "source": [
    "## 8. Question"
   ]
  },
  {
   "cell_type": "code",
   "execution_count": 10,
   "id": "b2fe7926",
   "metadata": {},
   "outputs": [
    {
     "name": "stdout",
     "output_type": "stream",
     "text": [
      "[0.01834862385321101, 0.1651376146788991, 0.0, 0.6513761467889908, 0.0, 0.1651376146788991, 0.0]\n",
      "[0.01859799713876967, 0.16509298998569386, 0.0002861230329041488, 0.6503576537911302, 0.0002861230329041488, 0.16509298998569386, 0.0002861230329041488]\n"
     ]
    },
    {
     "name": "stderr",
     "output_type": "stream",
     "text": [
      "<ipython-input-10-784f3dca6a00>:5: UserWarning: Boolean Series key will be reindexed to match DataFrame index.\n",
      "  tmp = len(dataset[dataset[0] == 'e'][dataset[15] == symbol])\n",
      "<ipython-input-10-784f3dca6a00>:10: UserWarning: Boolean Series key will be reindexed to match DataFrame index.\n",
      "  tmp = len(dataset[dataset[0] == 'e'][dataset[15] == symbol]) + 1\n"
     ]
    },
    {
     "data": {
      "image/png": "[encoded data removed]",
      "text/plain": [
       "<Figure size 432x288 with 1 Axes>"
      ]
     },
     "metadata": {
      "needs_background": "light"
     },
     "output_type": "display_data"
    },
    {
     "data": {
      "image/png": "[encoded data removed]",
      "text/plain": [
       "<Figure size 432x288 with 1 Axes>"
      ]
     },
     "metadata": {
      "needs_background": "light"
     },
     "output_type": "display_data"
    }
   ],
   "source": [
    "symbols = list(set(dataset[15]))\n",
    "\n",
    "count = []\n",
    "for symbol in symbols:\n",
    "    tmp = len(dataset[dataset[0] == 'e'][dataset[15] == symbol])\n",
    "    count.append(tmp/len(dataset[dataset[0] == 'e']))\n",
    "    \n",
    "count_with_laplace = []\n",
    "for symbol in symbols:\n",
    "    tmp = len(dataset[dataset[0] == 'e'][dataset[15] == symbol]) + 1\n",
    "    count_with_laplace.append(tmp/(len(dataset[dataset[0] == 'e']) + 1 * len(symbols)))\n",
    "\n",
    "plt.figure()\n",
    "plt.title(\"Without Laplace\")\n",
    "plt.bar(symbols, count)\n",
    "\n",
    "plt.figure()\n",
    "plt.title(\"With Laplace\")\n",
    "plt.bar(symbols, count_with_laplace)\n",
    "\n",
    "print(count)\n",
    "print(count_with_laplace)"
   ]
  },
  {
   "cell_type": "code",
   "execution_count": null,
   "id": "ffb7a151",
   "metadata": {},
   "outputs": [],
   "source": []
  }
 ],
 "metadata": {
  "colab": {
   "collapsed_sections": [],
   "name": "Assignment #1 - Naïve Bayes.ipynb",
   "provenance": []
  },
  "kernelspec": {
   "display_name": "Python 3",
   "language": "python",
   "name": "python3"
  },
  "language_info": {
   "codemirror_mode": {
    "name": "ipython",
    "version": 3
   },
   "file_extension": ".py",
   "mimetype": "text/x-python",
   "name": "python",
   "nbconvert_exporter": "python",
   "pygments_lexer": "ipython3",
   "version": "3.8.8"
  }
 },
 "nbformat": 4,
 "nbformat_minor": 5
}
